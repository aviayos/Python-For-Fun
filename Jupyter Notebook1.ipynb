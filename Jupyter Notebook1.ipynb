{
 "cells": [
  {
   "cell_type": "markdown",
   "metadata": {},
   "source": [
    "# Jupyter Notebook for fun\n",
    "\n",
    "This is simple jupyter exercises written in python, just for fun...."
   ]
  },
  {
   "cell_type": "markdown",
   "metadata": {},
   "source": [
    "# Ex. 1:"
   ]
  },
  {
   "cell_type": "markdown",
   "metadata": {},
   "source": [
    "The two function in the code:\n",
    "random.sample(range(5), 2) - return two random indexes from the range of 5 (0-4).\n",
    "random.choice(Tinders_Most_Wanted) - return one random element (name) from the list 'Tinders_Most_Wanted' \n",
    "\n",
    "The code randomly pick one name from the 'Tinders_Most_Wanted' list, and print it out. \n",
    "Then, pick randomly 2 indexes from the range of 5. \n",
    "At the end, from these two indexes it selects the first index and prints the name, located at the chosen index cell, from 'IDCs_Most_Wanted' list\n"
   ]
  },
  {
   "cell_type": "code",
   "execution_count": 9,
   "metadata": {},
   "outputs": [
    {
     "name": "stdout",
     "output_type": "stream",
     "text": [
      "Tom & Lior\n",
      "Stefan & Michal\n",
      "Jay & Varda\n",
      "Ryan & Liat\n",
      "Brian & Chen\n"
     ]
    }
   ],
   "source": [
    "import random\n",
    "Tinders_Most_Wanted = [\"Brian\", \"Ryan\", \"Jay\", \"Tom\", \"Stefan\"]\n",
    "IDCs_Most_Wanted = [\"Liat\" , \"Michal\", \"Lior\", \"Varda\" ,\"Chen\"]\n",
    "for x in range (5):\n",
    "    y = random.choice(Tinders_Most_Wanted)\n",
    "    z = random.choice(IDCs_Most_Wanted)\n",
    "    Tinders_Most_Wanted.remove(y)\n",
    "    IDCs_Most_Wanted.remove(z)\n",
    "    print (y+' & '+z)\n",
    " "
   ]
  },
  {
   "cell_type": "markdown",
   "metadata": {},
   "source": [
    "# Ex. 2:"
   ]
  },
  {
   "cell_type": "code",
   "execution_count": 10,
   "metadata": {},
   "outputs": [
    {
     "name": "stdout",
     "output_type": "stream",
     "text": [
      "Please enter image size: 7\n",
      "Please enter character that will be used for drawing: #\n",
      "      #      \n",
      "     ###     \n",
      "    #####    \n",
      "   #######   \n",
      "  #########  \n",
      " ########### \n",
      "#############\n"
     ]
    }
   ],
   "source": [
    "def draw(image_size, special_char):\n",
    "    #starting multiple loops\n",
    "    for i in range(1,image_size+1): \n",
    "        for j in range(image_size-i):\n",
    "            print(\" \",end='')            \n",
    "        for j in range(1,i):\n",
    "            print(special_char,end='')\n",
    "        for y in range(i,0,-1):\n",
    "            print(special_char,end='')\n",
    "        for x in range(image_size-i):\n",
    "            print(\" \",end='')\n",
    "    \n",
    "        print(\"\")\n",
    "\n",
    "image_size = int(input(\"Please enter image size: \"))\n",
    "special_char = input(\"Please enter character that will be used for drawing: \")\n",
    "draw(image_size,special_char)    \n",
    "    "
   ]
  },
  {
   "cell_type": "markdown",
   "metadata": {},
   "source": [
    "# Ex. 3:"
   ]
  },
  {
   "cell_type": "code",
   "execution_count": 30,
   "metadata": {},
   "outputs": [
    {
     "name": "stdout",
     "output_type": "stream",
     "text": [
      "Please enter base value (float): 10.1\n",
      "Please enter the exponent (int): 2\n",
      "102.00999999999999\n"
     ]
    }
   ],
   "source": [
    "def power(base, expo):\n",
    "    res=0;\n",
    "    for i in range(expo):\n",
    "        if (i==0):\n",
    "            res=base\n",
    "        else:\n",
    "            res*=base \n",
    "    return res;        \n",
    "\n",
    "base = float(input(\"Please enter base value (float): \"))\n",
    "expo = int(input(\"Please enter the exponent (int): \"))\n",
    "print(power(base,expo))\n",
    "    "
   ]
  },
  {
   "cell_type": "markdown",
   "metadata": {},
   "source": [
    "# Ex. 4:"
   ]
  },
  {
   "cell_type": "code",
   "execution_count": 5,
   "metadata": {},
   "outputs": [
    {
     "name": "stdout",
     "output_type": "stream",
     "text": [
      "abcdefghijklmnopqrstuvwxyz\n",
      "bcdefghijklmnopqrstuvwxyz\n",
      "cdefghijklmnopqrstuvwxyz\n",
      "defghijklmnopqrstuvwxyz\n",
      "efghijklmnopqrstuvwxyz\n",
      "fghijklmnopqrstuvwxyz\n",
      "ghijklmnopqrstuvwxyz\n",
      "hijklmnopqrstuvwxyz\n",
      "ijklmnopqrstuvwxyz\n",
      "jklmnopqrstuvwxyz\n",
      "klmnopqrstuvwxyz\n",
      "lmnopqrstuvwxyz\n",
      "mnopqrstuvwxyz\n",
      "nopqrstuvwxyz\n",
      "opqrstuvwxyz\n",
      "pqrstuvwxyz\n",
      "qrstuvwxyz\n",
      "rstuvwxyz\n",
      "stuvwxyz\n",
      "tuvwxyz\n",
      "uvwxyz\n",
      "vwxyz\n",
      "wxyz\n",
      "xyz\n",
      "yz\n",
      "z\n",
      "abcdefghijklmnopqrstuvwxyz\n",
      "abcdefghijklmnopqrstuvwxy\n",
      "abcdefghijklmnopqrstuvwx\n",
      "abcdefghijklmnopqrstuvw\n",
      "abcdefghijklmnopqrstuv\n",
      "abcdefghijklmnopqrstu\n",
      "abcdefghijklmnopqrst\n",
      "abcdefghijklmnopqrs\n",
      "abcdefghijklmnopqr\n",
      "abcdefghijklmnopq\n",
      "abcdefghijklmnop\n",
      "abcdefghijklmno\n",
      "abcdefghijklmn\n",
      "abcdefghijklm\n",
      "abcdefghijkl\n",
      "abcdefghijk\n",
      "abcdefghij\n",
      "abcdefghi\n",
      "abcdefgh\n",
      "abcdefg\n",
      "abcdef\n",
      "abcde\n",
      "abcd\n",
      "abc\n",
      "ab\n",
      "a\n",
      "abcdefghijklmnopqrstuvwxyz\n",
      "bcdefghijklmnopqrstuvwxy\n",
      "cdefghijklmnopqrstuvwx\n",
      "defghijklmnopqrstuvw\n",
      "efghijklmnopqrstuv\n",
      "fghijklmnopqrstu\n",
      "ghijklmnopqrst\n",
      "hijklmnopqrs\n",
      "ijklmnopqr\n",
      "jklmnopq\n",
      "klmnop\n",
      "lmno\n",
      "mn\n",
      "\n",
      "\n",
      "\n",
      "\n",
      "\n",
      "\n",
      "\n",
      "\n",
      "\n",
      "\n",
      "\n",
      "\n",
      "\n"
     ]
    }
   ],
   "source": [
    "import string\n",
    "\n",
    "def abc_last_is_z(abc):\n",
    "    for x in range (len(abc)):\n",
    "        print (abc)\n",
    "        abc = abc[1:]\n",
    "        \n",
    "def abc_last_is_a(abc):\n",
    "    for x in range (len(abc)):\n",
    "        print (abc)\n",
    "        abc = abc[:-1]\n",
    "\n",
    "def abc_last_is_mn(abc):\n",
    "    for x in range (len(abc)):\n",
    "        print (abc)\n",
    "        abc = abc[1:-1]\n",
    "\n",
    "abc_letters = string.ascii_lowercase\n",
    "abc_last_is_z(abc_letters)\n",
    "abc_last_is_a(abc_letters)\n",
    "abc_last_is_mn(abc_letters)\n",
    "\n"
   ]
  }
 ],
 "metadata": {
  "kernelspec": {
   "display_name": "Python 3",
   "language": "python",
   "name": "python3"
  },
  "language_info": {
   "codemirror_mode": {
    "name": "ipython",
    "version": 3
   },
   "file_extension": ".py",
   "mimetype": "text/x-python",
   "name": "python",
   "nbconvert_exporter": "python",
   "pygments_lexer": "ipython3",
   "version": "3.6.11"
  }
 },
 "nbformat": 4,
 "nbformat_minor": 4
}
