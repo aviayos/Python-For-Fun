{
 "cells": [
  {
   "cell_type": "markdown",
   "metadata": {},
   "source": [
    "# Israel Weather Forecast \n",
    "\n",
    "This program is small program written in python and makes api call to 7timer.\n",
    "The program shows weekly weather forecast of 5 cities in Israel, including temperatures graph.\n"
   ]
  },
  {
   "cell_type": "code",
   "execution_count": 3,
   "metadata": {},
   "outputs": [
    {
     "name": "stdout",
     "output_type": "stream",
     "text": [
      "Choose city which you want to find it weather forcast: \n",
      "Jerusalem, Tel Aviv, Haifa, Beer Sheva, Eilat and Rehovot\n",
      "Haifa\n",
      "08/09/20\n",
      "Max temperature during this day: 29\n",
      "Min temperature during this day: 26\n",
      "\n",
      "09/09/20\n",
      "Max temperature during this day: 29\n",
      "Min temperature during this day: 26\n",
      "\n",
      "10/09/20\n",
      "Max temperature during this day: 29\n",
      "Min temperature during this day: 26\n",
      "\n",
      "11/09/20\n",
      "Max temperature during this day: 29\n",
      "Min temperature during this day: 26\n",
      "\n",
      "12/09/20\n",
      "Max temperature during this day: 28\n",
      "Min temperature during this day: 26\n",
      "\n",
      "13/09/20\n",
      "Max temperature during this day: 29\n",
      "Min temperature during this day: 26\n",
      "\n",
      "14/09/20\n",
      "Max temperature during this day: 27\n",
      "Min temperature during this day: 25\n",
      "\n"
     ]
    },
    {
     "data": {
      "image/png": "[encoded data removed]",
      "text/plain": [
       "<Figure size 432x288 with 1 Axes>"
      ]
     },
     "metadata": {
      "needs_background": "light"
     },
     "output_type": "display_data"
    }
   ],
   "source": [
    "import requests\n",
    "import matplotlib.pyplot as plt\n",
    "import numpy as np\n",
    "\n",
    "# \"This function write the output text with user selection and answer from API call\"\n",
    "def write_to_output(dict, city):\n",
    "    f = open(\"output.txt\", \"w\")\n",
    "    f.write(\"user selection is: \" + city + '\\n')\n",
    "    f.write(\"the weekly weather fore cast, from API call, in Json format: \" + str(dict['dataseries']) + '\\n')\n",
    "    f.close()\n",
    "\n",
    "# \"This function is the main function of the program\"\n",
    "def show_city_forecast(city):\n",
    "    url = 'http://www.7timer.info/bin/api.pl?lon={0}/&lat={1}&product=civillight&output=json'\n",
    "    url = load_lat_long_from_file(city, url)\n",
    "    dict=requests.get(url).json()\n",
    "    write_to_output(dict, city)\n",
    "    listOfDays = dict['dataseries']\n",
    "    x = []\n",
    "    minLine = []\n",
    "    maxLine = []\n",
    "    count = 0\n",
    "    for obj in listOfDays:\n",
    "        tempMax = obj['temp2m']['max']\n",
    "        tempMin = obj['temp2m']['min']\n",
    "        # \"convert the date to be readable\"\n",
    "        date = str(obj['date'])\n",
    "        day = date[6:8]\n",
    "        month = date[4:6]\n",
    "        year = date[2:4]\n",
    "        formattedDate = day + '/' + month + '/' + year\n",
    "        # \"store values for the graph\"\n",
    "        x.insert(count, formattedDate)\n",
    "        minLine.insert(count, tempMin)\n",
    "        maxLine.insert(count, tempMax)\n",
    "        # \"print the alphabetic answer\"\n",
    "        print(formattedDate)\n",
    "        print('Max temperature during this day: ' + str(tempMax))\n",
    "        print('Min temperature during this day: ' + str(tempMin) + '\\n')\n",
    "        count = count+1\n",
    "\n",
    "    print_graph(city, maxLine, minLine, x)\n",
    "\n",
    "# \"function printing the weekly temperature forecast graph\"\n",
    "def print_graph(city, maxLine, minLine, x):\n",
    "    plt.plot()\n",
    "    plt.plot(x, np.array(maxLine), label=\"max temperature\")\n",
    "    plt.plot(x, np.array(minLine), label=\"min temperature\")\n",
    "    plt.xlabel('Date')\n",
    "    plt.ylabel('Temperature')\n",
    "    plt.title('Weekly weather forecast in: ' + city)\n",
    "    plt.legend()\n",
    "    plt.show()\n",
    "\n",
    "# \"function loads lat and long values from config file\"\n",
    "def load_lat_long_from_file(city, url):\n",
    "    path = 'cities.txt'\n",
    "    file = open(path)\n",
    "    line = file.readline()\n",
    "    while city.lower() not in line:\n",
    "        line = file.readline()\n",
    "    # \"extract the values from file\n",
    "    lat_num = line[line.find('lat=')+4:line.find('lat=') + 9]\n",
    "    long_num = line[line.rfind('long=')+5:line.rfind('long=') + 10]\n",
    "    return url.format(long_num, lat_num)\n",
    "\n",
    "\n",
    "\n",
    "cities = [\"jerusalem\",\"tel aviv\",\"haifa\",\"beer sheva\",\"eilat\",\"rehovot\"]\n",
    "val = input(\n",
    "    \"Choose city which you want to find it weather forcast: \"+'\\n' + \"Jerusalem, Tel Aviv, Haifa, Beer Sheva, Eilat and Rehovot\" +'\\n')\n",
    "while val.lower() not in cities:\n",
    "    val = input(\"Invalid city name, please insert your choice again (exact value) \")\n",
    "show_city_forecast(val)\n"
   ]
  },
  {
   "cell_type": "code",
   "execution_count": null,
   "metadata": {},
   "outputs": [],
   "source": []
  }
 ],
 "metadata": {
  "kernelspec": {
   "display_name": "Python 3",
   "language": "python",
   "name": "python3"
  },
  "language_info": {
   "codemirror_mode": {
    "name": "ipython",
    "version": 3
   },
   "file_extension": ".py",
   "mimetype": "text/x-python",
   "name": "python",
   "nbconvert_exporter": "python",
   "pygments_lexer": "ipython3",
   "version": "3.6.11"
  }
 },
 "nbformat": 4,
 "nbformat_minor": 4
}
